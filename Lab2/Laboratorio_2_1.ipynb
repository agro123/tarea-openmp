{
  "nbformat": 4,
  "nbformat_minor": 0,
  "metadata": {
    "colab": {
      "provenance": []
    },
    "kernelspec": {
      "name": "python3",
      "display_name": "Python 3"
    },
    "language_info": {
      "name": "python"
    }
  },
  "cells": [
    {
      "cell_type": "markdown",
      "source": [
        "**1) OMP_NUM_THREADS environment variable**\n",
        "\n"
      ],
      "metadata": {
        "id": "AGrdhKgK_WBP"
      }
    },
    {
      "cell_type": "code",
      "execution_count": null,
      "metadata": {
        "colab": {
          "base_uri": "https://localhost:8080/"
        },
        "id": "fdhs6tXl_EMj",
        "outputId": "df4df6a0-b88d-4b01-b79b-0c81c19dadb0"
      },
      "outputs": [
        {
          "output_type": "stream",
          "name": "stdout",
          "text": [
            "Writing hello_world.c\n"
          ]
        }
      ],
      "source": [
        "%%writefile hello_world.c\n",
        "\n",
        "#include <stdio.h>\n",
        "#include <omp.h>\n",
        "\n",
        "int main() {\n",
        "  #pragma omp parallel\n",
        "    {\n",
        "      printf(\"Hello from %d out of %d\\n\", omp_get_thread_num(), omp_get_num_threads());\n",
        "    }\n",
        "\n",
        "  return 0;\n",
        "}"
      ]
    },
    {
      "cell_type": "code",
      "source": [
        "!gcc -fopenmp hello_world.c -o hello_world.exe"
      ],
      "metadata": {
        "id": "6-H7uji1Akeo"
      },
      "execution_count": null,
      "outputs": []
    },
    {
      "cell_type": "code",
      "source": [
        "!./hello_world.exe"
      ],
      "metadata": {
        "colab": {
          "base_uri": "https://localhost:8080/"
        },
        "id": "YWOlo7OvAv25",
        "outputId": "c35d4e29-9465-472f-fb39-7f1edba68cdb"
      },
      "execution_count": null,
      "outputs": [
        {
          "output_type": "stream",
          "name": "stdout",
          "text": [
            "Hello from 0 out of 2\n",
            "Hello from 1 out of 2\n"
          ]
        }
      ]
    },
    {
      "cell_type": "code",
      "source": [
        "!OMP_NUM_THREADS=3 ./hello_world.exe"
      ],
      "metadata": {
        "colab": {
          "base_uri": "https://localhost:8080/"
        },
        "id": "XmBahYdyA0Fd",
        "outputId": "287ce442-a9b1-42cd-c738-ec8a3dbdb466"
      },
      "execution_count": null,
      "outputs": [
        {
          "output_type": "stream",
          "name": "stdout",
          "text": [
            "Hello from 1 out of 3\n",
            "Hello from 0 out of 3\n",
            "Hello from 2 out of 3\n"
          ]
        }
      ]
    },
    {
      "cell_type": "markdown",
      "source": [],
      "metadata": {
        "id": "oQOsw1bBDsAf"
      }
    },
    {
      "cell_type": "code",
      "source": [
        "!OMP_NUM_THREADS=5 ./hello_world.exe"
      ],
      "metadata": {
        "colab": {
          "base_uri": "https://localhost:8080/"
        },
        "id": "zjX-jB_EA3KZ",
        "outputId": "f37e4f72-3800-4599-ba7c-f778c7932b2d"
      },
      "execution_count": null,
      "outputs": [
        {
          "output_type": "stream",
          "name": "stdout",
          "text": [
            "Hello from 1 out of 5\n",
            "Hello from 4 out of 5\n",
            "Hello from 3 out of 5\n",
            "Hello from 0 out of 5\n",
            "Hello from 2 out of 5\n"
          ]
        }
      ]
    },
    {
      "cell_type": "markdown",
      "source": [
        "Si no defino la cantidad de hilos que quiero crear, OpenMP toma por defecto el número del núcleos del sistema donde está corriendo. En el caso de Google Collab, este número es 2. Este valor puede ser modificado incluso después de compilar al asignarle un valior diferente a la variable OMP_NUM_THREADS en la ejecución del programa.\n",
        "\n",
        "Esta variable puede ser modificada durante la ejecución porque es una variable de entorno, y las variables de entorno no están guardadas en el código compilado del programa, si no queson parámetros que el sistema operativo proporciona a los procesos cuando estos se ejecutan."
      ],
      "metadata": {
        "id": "bsIZtEskCcWR"
      }
    },
    {
      "cell_type": "markdown",
      "source": [
        "**2) OMP_THREAD_LIMIT environment variable**"
      ],
      "metadata": {
        "id": "ZZOynsw1EpgO"
      }
    },
    {
      "cell_type": "code",
      "source": [
        "%%writefile hello_world.c\n",
        "\n",
        "#include <stdio.h>\n",
        "#include <omp.h>\n",
        "\n",
        "int main() {\n",
        "  #pragma omp parallel\n",
        "    {\n",
        "      printf(\"Hello from %d out of %d\\n\", omp_get_thread_num(), omp_get_num_threads());\n",
        "    }\n",
        "\n",
        "  return 0;\n",
        "}"
      ],
      "metadata": {
        "colab": {
          "base_uri": "https://localhost:8080/"
        },
        "id": "ZH32EH8REvA3",
        "outputId": "958fcc81-73c2-4d80-93f4-593998d9b198"
      },
      "execution_count": null,
      "outputs": [
        {
          "output_type": "stream",
          "name": "stdout",
          "text": [
            "Overwriting hello_world.c\n"
          ]
        }
      ]
    },
    {
      "cell_type": "code",
      "source": [
        "!gcc -fopenmp hello_world.c -o hello_world.exe"
      ],
      "metadata": {
        "id": "vmn6Y9H4EvV0"
      },
      "execution_count": null,
      "outputs": []
    },
    {
      "cell_type": "code",
      "source": [
        "!OMP_THREAD_LIMIT=4 OMP_NUM_THREADS=1000 ./hello_world.exe"
      ],
      "metadata": {
        "colab": {
          "base_uri": "https://localhost:8080/"
        },
        "id": "G602S97YEvmo",
        "outputId": "f898f1c0-42e1-409d-a41f-9d21fe04099d"
      },
      "execution_count": null,
      "outputs": [
        {
          "output_type": "stream",
          "name": "stdout",
          "text": [
            "Hello from 1 out of 4\n",
            "Hello from 0 out of 4\n",
            "Hello from 3 out of 4\n",
            "Hello from 2 out of 4\n"
          ]
        }
      ]
    },
    {
      "cell_type": "markdown",
      "source": [
        "Como se explicó en el punto anterior, la variable de entorno OMP_NUM_THREADS puede modificar la cantidad a hilos a usar durante la ejecución. Pero hay otra variable de entorno que la restringe, y es la variable OMP_THREAD_LIMIT. Podemos observar que a pesar de haber definido OMP_NUM_THREADS como 1000, solo se crearán 4 hilos pues este es el límite determinado por OMP_THREAD_LIMIT.\n",
        "\n",
        "De no existir este límite, el programa hubiera creado 1000 hilos. Esto se puede evidenciar a continuación"
      ],
      "metadata": {
        "id": "tDjgv84yFOPn"
      }
    },
    {
      "cell_type": "code",
      "source": [
        "!OMP_NUM_THREADS=1000 ./hello_world.exe"
      ],
      "metadata": {
        "colab": {
          "base_uri": "https://localhost:8080/"
        },
        "id": "1OJdJb3EFI8F",
        "outputId": "86cc14c6-4efe-4a67-b57a-bf979474ea21"
      },
      "execution_count": null,
      "outputs": [
        {
          "output_type": "stream",
          "name": "stdout",
          "text": [
            "Hello from 0 out of 1000\n",
            "Hello from 1 out of 1000\n",
            "Hello from 4 out of 1000\n",
            "Hello from 8 out of 1000\n",
            "Hello from 6 out of 1000\n",
            "Hello from 33 out of 1000\n",
            "Hello from 18 out of 1000\n",
            "Hello from 37 out of 1000\n",
            "Hello from 17 out of 1000\n",
            "Hello from 38 out of 1000\n",
            "Hello from 16 out of 1000\n",
            "Hello from 39 out of 1000\n",
            "Hello from 19 out of 1000\n",
            "Hello from 40 out of 1000\n",
            "Hello from 20 out of 1000\n",
            "Hello from 10 out of 1000\n",
            "Hello from 21 out of 1000\n",
            "Hello from 9 out of 1000\n",
            "Hello from 22 out of 1000\n",
            "Hello from 11 out of 1000\n",
            "Hello from 23 out of 1000\n",
            "Hello from 12 out of 1000\n",
            "Hello from 24 out of 1000\n",
            "Hello from 7 out of 1000\n",
            "Hello from 29 out of 1000\n",
            "Hello from 14 out of 1000\n",
            "Hello from 30 out of 1000\n",
            "Hello from 15 out of 1000\n",
            "Hello from 32 out of 1000\n",
            "Hello from 28 out of 1000\n",
            "Hello from 58 out of 1000\n",
            "Hello from 27 out of 1000\n",
            "Hello from 57 out of 1000\n",
            "Hello from 25 out of 1000\n",
            "Hello from 59 out of 1000\n",
            "Hello from 36 out of 1000\n",
            "Hello from 60 out of 1000\n",
            "Hello from 35 out of 1000\n",
            "Hello from 61 out of 1000\n",
            "Hello from 34 out of 1000\n",
            "Hello from 62 out of 1000\n",
            "Hello from 41 out of 1000\n",
            "Hello from 69 out of 1000\n",
            "Hello from 42 out of 1000\n",
            "Hello from 70 out of 1000\n",
            "Hello from 44 out of 1000\n",
            "Hello from 71 out of 1000\n",
            "Hello from 2 out of 1000\n",
            "Hello from 72 out of 1000\n",
            "Hello from 43 out of 1000\n",
            "Hello from 73 out of 1000\n",
            "Hello from 45 out of 1000\n",
            "Hello from 74 out of 1000\n",
            "Hello from 46 out of 1000\n",
            "Hello from 75 out of 1000\n",
            "Hello from 49 out of 1000\n",
            "Hello from 76 out of 1000\n",
            "Hello from 50 out of 1000\n",
            "Hello from 114 out of 1000\n",
            "Hello from 51 out of 1000\n",
            "Hello from 115 out of 1000\n",
            "Hello from 47 out of 1000\n",
            "Hello from 127 out of 1000\n",
            "Hello from 48 out of 1000\n",
            "Hello from 116 out of 1000\n",
            "Hello from 55 out of 1000\n",
            "Hello from 128 out of 1000\n",
            "Hello from 54 out of 1000\n",
            "Hello from 152 out of 1000\n",
            "Hello from 53 out of 1000\n",
            "Hello from 154 out of 1000\n",
            "Hello from 56 out of 1000\n",
            "Hello from 158 out of 1000\n",
            "Hello from 52 out of 1000\n",
            "Hello from 146 out of 1000\n",
            "Hello from 3 out of 1000\n",
            "Hello from 167 out of 1000\n",
            "Hello from 64 out of 1000\n",
            "Hello from 168 out of 1000\n",
            "Hello from 63 out of 1000\n",
            "Hello from 169 out of 1000\n",
            "Hello from 65 out of 1000\n",
            "Hello from 170 out of 1000\n",
            "Hello from 68 out of 1000\n",
            "Hello from 171 out of 1000\n",
            "Hello from 66 out of 1000\n",
            "Hello from 172 out of 1000\n",
            "Hello from 67 out of 1000\n",
            "Hello from 173 out of 1000\n",
            "Hello from 83 out of 1000\n",
            "Hello from 174 out of 1000\n",
            "Hello from 84 out of 1000\n",
            "Hello from 175 out of 1000\n",
            "Hello from 94 out of 1000\n",
            "Hello from 176 out of 1000\n",
            "Hello from 95 out of 1000\n",
            "Hello from 177 out of 1000\n",
            "Hello from 98 out of 1000\n",
            "Hello from 178 out of 1000\n",
            "Hello from 100 out of 1000\n",
            "Hello from 179 out of 1000\n",
            "Hello from 97 out of 1000\n",
            "Hello from 180 out of 1000\n",
            "Hello from 96 out of 1000\n",
            "Hello from 183 out of 1000\n",
            "Hello from 122 out of 1000\n",
            "Hello from 181 out of 1000\n",
            "Hello from 124 out of 1000\n",
            "Hello from 182 out of 1000\n",
            "Hello from 123 out of 1000\n",
            "Hello from 184 out of 1000\n",
            "Hello from 185 out of 1000\n",
            "Hello from 186 out of 1000\n",
            "Hello from 187 out of 1000\n",
            "Hello from 188 out of 1000\n",
            "Hello from 189 out of 1000\n",
            "Hello from 190 out of 1000\n",
            "Hello from 191 out of 1000\n",
            "Hello from 226 out of 1000\n",
            "Hello from 121 out of 1000\n",
            "Hello from 209 out of 1000\n",
            "Hello from 120 out of 1000\n",
            "Hello from 212 out of 1000\n",
            "Hello from 118 out of 1000\n",
            "Hello from 215 out of 1000\n",
            "Hello from 119 out of 1000\n",
            "Hello from 218 out of 1000\n",
            "Hello from 105 out of 1000\n",
            "Hello from 221 out of 1000\n",
            "Hello from 102 out of 1000\n",
            "Hello from 224 out of 1000\n",
            "Hello from 106 out of 1000\n",
            "Hello from 197 out of 1000\n",
            "Hello from 108 out of 1000\n",
            "Hello from 198 out of 1000\n",
            "Hello from 101 out of 1000\n",
            "Hello from 199 out of 1000\n",
            "Hello from 117 out of 1000\n",
            "Hello from 200 out of 1000\n",
            "Hello from 107 out of 1000\n",
            "Hello from 201 out of 1000\n",
            "Hello from 104 out of 1000\n",
            "Hello from 202 out of 1000\n",
            "Hello from 103 out of 1000\n",
            "Hello from 204 out of 1000\n",
            "Hello from 129 out of 1000\n",
            "Hello from 205 out of 1000\n",
            "Hello from 126 out of 1000\n",
            "Hello from 208 out of 1000\n",
            "Hello from 151 out of 1000\n",
            "Hello from 210 out of 1000\n",
            "Hello from 130 out of 1000\n",
            "Hello from 214 out of 1000\n",
            "Hello from 131 out of 1000\n",
            "Hello from 227 out of 1000\n",
            "Hello from 153 out of 1000\n",
            "Hello from 228 out of 1000\n",
            "Hello from 133 out of 1000\n",
            "Hello from 230 out of 1000\n",
            "Hello from 135 out of 1000\n",
            "Hello from 229 out of 1000\n",
            "Hello from 134 out of 1000\n",
            "Hello from 231 out of 1000\n",
            "Hello from 136 out of 1000\n",
            "Hello from 232 out of 1000\n",
            "Hello from 137 out of 1000\n",
            "Hello from 233 out of 1000\n",
            "Hello from 155 out of 1000\n",
            "Hello from 234 out of 1000\n",
            "Hello from 138 out of 1000\n",
            "Hello from 235 out of 1000\n",
            "Hello from 139 out of 1000\n",
            "Hello from 236 out of 1000\n",
            "Hello from 140 out of 1000\n",
            "Hello from 237 out of 1000\n",
            "Hello from 156 out of 1000\n",
            "Hello from 238 out of 1000\n",
            "Hello from 141 out of 1000\n",
            "Hello from 239 out of 1000\n",
            "Hello from 142 out of 1000\n",
            "Hello from 240 out of 1000\n",
            "Hello from 157 out of 1000\n",
            "Hello from 241 out of 1000\n",
            "Hello from 143 out of 1000\n",
            "Hello from 242 out of 1000\n",
            "Hello from 144 out of 1000\n",
            "Hello from 243 out of 1000\n",
            "Hello from 159 out of 1000\n",
            "Hello from 244 out of 1000\n",
            "Hello from 145 out of 1000\n",
            "Hello from 245 out of 1000\n",
            "Hello from 147 out of 1000\n",
            "Hello from 246 out of 1000\n",
            "Hello from 148 out of 1000\n",
            "Hello from 247 out of 1000\n",
            "Hello from 160 out of 1000\n",
            "Hello from 249 out of 1000\n",
            "Hello from 150 out of 1000\n",
            "Hello from 250 out of 1000\n",
            "Hello from 161 out of 1000\n",
            "Hello from 251 out of 1000\n",
            "Hello from 162 out of 1000\n",
            "Hello from 252 out of 1000\n",
            "Hello from 163 out of 1000\n",
            "Hello from 253 out of 1000\n",
            "Hello from 165 out of 1000\n",
            "Hello from 254 out of 1000\n",
            "Hello from 164 out of 1000\n",
            "Hello from 255 out of 1000\n",
            "Hello from 166 out of 1000\n",
            "Hello from 256 out of 1000\n",
            "Hello from 194 out of 1000\n",
            "Hello from 257 out of 1000\n",
            "Hello from 196 out of 1000\n",
            "Hello from 258 out of 1000\n",
            "Hello from 193 out of 1000\n",
            "Hello from 286 out of 1000\n",
            "Hello from 287 out of 1000\n",
            "Hello from 283 out of 1000\n",
            "Hello from 203 out of 1000\n",
            "Hello from 322 out of 1000\n",
            "Hello from 222 out of 1000\n",
            "Hello from 355 out of 1000\n",
            "Hello from 225 out of 1000\n",
            "Hello from 356 out of 1000\n",
            "Hello from 216 out of 1000\n",
            "Hello from 359 out of 1000\n",
            "Hello from 207 out of 1000\n",
            "Hello from 360 out of 1000\n",
            "Hello from 220 out of 1000\n",
            "Hello from 361 out of 1000\n",
            "Hello from 223 out of 1000\n",
            "Hello from 362 out of 1000\n",
            "Hello from 213 out of 1000\n",
            "Hello from 363 out of 1000\n",
            "Hello from 219 out of 1000\n",
            "Hello from 368 out of 1000\n",
            "Hello from 271 out of 1000\n",
            "Hello from 370 out of 1000\n",
            "Hello from 275 out of 1000\n",
            "Hello from 371 out of 1000\n",
            "Hello from 269 out of 1000\n",
            "Hello from 372 out of 1000\n",
            "Hello from 276 out of 1000\n",
            "Hello from 373 out of 1000\n",
            "Hello from 268 out of 1000\n",
            "Hello from 374 out of 1000\n",
            "Hello from 272 out of 1000\n",
            "Hello from 375 out of 1000\n",
            "Hello from 274 out of 1000\n",
            "Hello from 376 out of 1000\n",
            "Hello from 270 out of 1000\n",
            "Hello from 263 out of 1000\n",
            "Hello from 273 out of 1000\n",
            "Hello from 261 out of 1000\n",
            "Hello from 267 out of 1000\n",
            "Hello from 336 out of 1000\n",
            "Hello from 266 out of 1000\n",
            "Hello from 335 out of 1000\n",
            "Hello from 264 out of 1000\n",
            "Hello from 334 out of 1000\n",
            "Hello from 280 out of 1000\n",
            "Hello from 333 out of 1000\n",
            "Hello from 279 out of 1000\n",
            "Hello from 332 out of 1000\n",
            "Hello from 281 out of 1000\n",
            "Hello from 311 out of 1000\n",
            "Hello from 278 out of 1000\n",
            "Hello from 289 out of 1000\n",
            "Hello from 277 out of 1000\n",
            "Hello from 259 out of 1000\n",
            "Hello from 265 out of 1000\n",
            "Hello from 377 out of 1000\n",
            "Hello from 262 out of 1000\n",
            "Hello from 342 out of 1000\n",
            "Hello from 344 out of 1000\n",
            "Hello from 380 out of 1000\n",
            "Hello from 345 out of 1000\n",
            "Hello from 381 out of 1000\n",
            "Hello from 401 out of 1000\n",
            "Hello from 343 out of 1000\n",
            "Hello from 405 out of 1000\n",
            "Hello from 382 out of 1000\n",
            "Hello from 406 out of 1000\n",
            "Hello from 346 out of 1000\n",
            "Hello from 407 out of 1000\n",
            "Hello from 347 out of 1000\n",
            "Hello from 408 out of 1000\n",
            "Hello from 348 out of 1000\n",
            "Hello from 409 out of 1000\n",
            "Hello from 383 out of 1000\n",
            "Hello from 349 out of 1000\n",
            "Hello from 351 out of 1000\n",
            "Hello from 425 out of 1000\n",
            "Hello from 352 out of 1000\n",
            "Hello from 421 out of 1000\n",
            "Hello from 384 out of 1000\n",
            "Hello from 422 out of 1000\n",
            "Hello from 353 out of 1000\n",
            "Hello from 418 out of 1000\n",
            "Hello from 385 out of 1000\n",
            "Hello from 420 out of 1000\n",
            "Hello from 354 out of 1000\n",
            "Hello from 417 out of 1000\n",
            "Hello from 369 out of 1000\n",
            "Hello from 423 out of 1000\n",
            "Hello from 386 out of 1000\n",
            "Hello from 424 out of 1000\n",
            "Hello from 350 out of 1000\n",
            "Hello from 419 out of 1000\n",
            "Hello from 387 out of 1000\n",
            "Hello from 398 out of 1000\n",
            "Hello from 388 out of 1000\n",
            "Hello from 449 out of 1000\n",
            "Hello from 389 out of 1000\n",
            "Hello from 505 out of 1000\n",
            "Hello from 390 out of 1000\n",
            "Hello from 479 out of 1000\n",
            "Hello from 391 out of 1000\n",
            "Hello from 480 out of 1000\n",
            "Hello from 426 out of 1000\n",
            "Hello from 470 out of 1000\n",
            "Hello from 393 out of 1000\n",
            "Hello from 474 out of 1000\n",
            "Hello from 403 out of 1000\n",
            "Hello from 471 out of 1000\n",
            "Hello from 404 out of 1000\n",
            "Hello from 472 out of 1000\n",
            "Hello from 402 out of 1000\n",
            "Hello from 475 out of 1000\n",
            "Hello from 400 out of 1000\n",
            "Hello from 467 out of 1000\n",
            "Hello from 399 out of 1000\n",
            "Hello from 465 out of 1000\n",
            "Hello from 427 out of 1000\n",
            "Hello from 473 out of 1000\n",
            "Hello from 431 out of 1000\n",
            "Hello from 483 out of 1000\n",
            "Hello from 432 out of 1000\n",
            "Hello from 484 out of 1000\n",
            "Hello from 433 out of 1000\n",
            "Hello from 485 out of 1000\n",
            "Hello from 434 out of 1000\n",
            "Hello from 486 out of 1000\n",
            "Hello from 435 out of 1000\n",
            "Hello from 493 out of 1000\n",
            "Hello from 436 out of 1000\n",
            "Hello from 494 out of 1000\n",
            "Hello from 438 out of 1000\n",
            "Hello from 487 out of 1000\n",
            "Hello from 439 out of 1000\n",
            "Hello from 488 out of 1000\n",
            "Hello from 440 out of 1000\n",
            "Hello from 492 out of 1000\n",
            "Hello from 441 out of 1000\n",
            "Hello from 495 out of 1000\n",
            "Hello from 442 out of 1000\n",
            "Hello from 512 out of 1000\n",
            "Hello from 443 out of 1000\n",
            "Hello from 516 out of 1000\n",
            "Hello from 444 out of 1000\n",
            "Hello from 515 out of 1000\n",
            "Hello from 445 out of 1000\n",
            "Hello from 517 out of 1000\n",
            "Hello from 446 out of 1000\n",
            "Hello from 518 out of 1000\n",
            "Hello from 447 out of 1000\n",
            "Hello from 519 out of 1000\n",
            "Hello from 448 out of 1000\n",
            "Hello from 520 out of 1000\n",
            "Hello from 437 out of 1000\n",
            "Hello from 523 out of 1000\n",
            "Hello from 450 out of 1000\n",
            "Hello from 525 out of 1000\n",
            "Hello from 451 out of 1000\n",
            "Hello from 526 out of 1000\n",
            "Hello from 452 out of 1000\n",
            "Hello from 521 out of 1000\n",
            "Hello from 453 out of 1000\n",
            "Hello from 532 out of 1000\n",
            "Hello from 454 out of 1000\n",
            "Hello from 527 out of 1000\n",
            "Hello from 455 out of 1000\n",
            "Hello from 530 out of 1000\n",
            "Hello from 456 out of 1000\n",
            "Hello from 533 out of 1000\n",
            "Hello from 458 out of 1000\n",
            "Hello from 534 out of 1000\n",
            "Hello from 459 out of 1000\n",
            "Hello from 535 out of 1000\n",
            "Hello from 460 out of 1000\n",
            "Hello from 536 out of 1000\n",
            "Hello from 461 out of 1000\n",
            "Hello from 537 out of 1000\n",
            "Hello from 462 out of 1000\n",
            "Hello from 538 out of 1000\n",
            "Hello from 463 out of 1000\n",
            "Hello from 539 out of 1000\n",
            "Hello from 496 out of 1000\n",
            "Hello from 580 out of 1000\n",
            "Hello from 497 out of 1000\n",
            "Hello from 583 out of 1000\n",
            "Hello from 498 out of 1000\n",
            "Hello from 586 out of 1000\n",
            "Hello from 499 out of 1000\n",
            "Hello from 589 out of 1000\n",
            "Hello from 500 out of 1000\n",
            "Hello from 592 out of 1000\n",
            "Hello from 501 out of 1000\n",
            "Hello from 595 out of 1000\n",
            "Hello from 502 out of 1000\n",
            "Hello from 598 out of 1000\n",
            "Hello from 503 out of 1000\n",
            "Hello from 601 out of 1000\n",
            "Hello from 504 out of 1000\n",
            "Hello from 571 out of 1000\n",
            "Hello from 506 out of 1000\n",
            "Hello from 577 out of 1000\n",
            "Hello from 507 out of 1000\n",
            "Hello from 579 out of 1000\n",
            "Hello from 508 out of 1000\n",
            "Hello from 581 out of 1000\n",
            "Hello from 509 out of 1000\n",
            "Hello from 614 out of 1000\n",
            "Hello from 510 out of 1000\n",
            "Hello from 615 out of 1000\n",
            "Hello from 511 out of 1000\n",
            "Hello from 617 out of 1000\n",
            "Hello from 478 out of 1000\n",
            "Hello from 618 out of 1000\n",
            "Hello from 477 out of 1000\n",
            "Hello from 619 out of 1000\n",
            "Hello from 476 out of 1000\n",
            "Hello from 620 out of 1000\n",
            "Hello from 469 out of 1000\n",
            "Hello from 621 out of 1000\n",
            "Hello from 468 out of 1000\n",
            "Hello from 622 out of 1000\n",
            "Hello from 466 out of 1000\n",
            "Hello from 765 out of 1000\n",
            "Hello from 514 out of 1000\n",
            "Hello from 31 out of 1000\n",
            "Hello from 573 out of 1000\n",
            "Hello from 574 out of 1000\n",
            "Hello from 575 out of 1000\n",
            "Hello from 572 out of 1000\n",
            "Hello from 616 out of 1000\n",
            "Hello from 566 out of 1000\n",
            "Hello from 599 out of 1000\n",
            "Hello from 590 out of 1000\n",
            "Hello from 999 out of 1000\n",
            "Hello from 596 out of 1000\n",
            "Hello from 13 out of 1000\n",
            "Hello from 591 out of 1000\n",
            "Hello from 26 out of 1000\n",
            "Hello from 593 out of 1000\n",
            "Hello from 77 out of 1000\n",
            "Hello from 597 out of 1000\n",
            "Hello from 78 out of 1000\n",
            "Hello from 594 out of 1000\n",
            "Hello from 79 out of 1000\n",
            "Hello from 576 out of 1000\n",
            "Hello from 80 out of 1000\n",
            "Hello from 578 out of 1000\n",
            "Hello from 81 out of 1000\n",
            "Hello from 584 out of 1000\n",
            "Hello from 85 out of 1000\n",
            "Hello from 588 out of 1000\n",
            "Hello from 86 out of 1000\n",
            "Hello from 585 out of 1000\n",
            "Hello from 87 out of 1000\n",
            "Hello from 582 out of 1000\n",
            "Hello from 88 out of 1000\n",
            "Hello from 603 out of 1000\n",
            "Hello from 89 out of 1000\n",
            "Hello from 604 out of 1000\n",
            "Hello from 90 out of 1000\n",
            "Hello from 606 out of 1000\n",
            "Hello from 91 out of 1000\n",
            "Hello from 607 out of 1000\n",
            "Hello from 92 out of 1000\n",
            "Hello from 609 out of 1000\n",
            "Hello from 93 out of 1000\n",
            "Hello from 610 out of 1000\n",
            "Hello from 82 out of 1000\n",
            "Hello from 611 out of 1000\n",
            "Hello from 109 out of 1000\n",
            "Hello from 602 out of 1000\n",
            "Hello from 110 out of 1000\n",
            "Hello from 612 out of 1000\n",
            "Hello from 111 out of 1000\n",
            "Hello from 613 out of 1000\n",
            "Hello from 112 out of 1000\n",
            "Hello from 624 out of 1000\n",
            "Hello from 113 out of 1000\n",
            "Hello from 623 out of 1000\n",
            "Hello from 99 out of 1000\n",
            "Hello from 629 out of 1000\n",
            "Hello from 195 out of 1000\n",
            "Hello from 630 out of 1000\n",
            "Hello from 125 out of 1000\n",
            "Hello from 211 out of 1000\n",
            "Hello from 132 out of 1000\n",
            "Hello from 248 out of 1000\n",
            "Hello from 149 out of 1000\n",
            "Hello from 285 out of 1000\n",
            "Hello from 192 out of 1000\n",
            "Hello from 284 out of 1000\n",
            "Hello from 282 out of 1000\n",
            "Hello from 288 out of 1000\n",
            "Hello from 260 out of 1000\n",
            "Hello from 290 out of 1000\n",
            "Hello from 291 out of 1000\n",
            "Hello from 292 out of 1000\n",
            "Hello from 293 out of 1000\n",
            "Hello from 294 out of 1000\n",
            "Hello from 295 out of 1000\n",
            "Hello from 296 out of 1000\n",
            "Hello from 297 out of 1000\n",
            "Hello from 298 out of 1000\n",
            "Hello from 299 out of 1000\n",
            "Hello from 300 out of 1000\n",
            "Hello from 301 out of 1000\n",
            "Hello from 302 out of 1000\n",
            "Hello from 303 out of 1000\n",
            "Hello from 304 out of 1000\n",
            "Hello from 305 out of 1000\n",
            "Hello from 306 out of 1000\n",
            "Hello from 307 out of 1000\n",
            "Hello from 308 out of 1000\n",
            "Hello from 309 out of 1000\n",
            "Hello from 310 out of 1000\n",
            "Hello from 312 out of 1000\n",
            "Hello from 313 out of 1000\n",
            "Hello from 314 out of 1000\n",
            "Hello from 315 out of 1000\n",
            "Hello from 316 out of 1000\n",
            "Hello from 317 out of 1000\n",
            "Hello from 318 out of 1000\n",
            "Hello from 319 out of 1000\n",
            "Hello from 320 out of 1000\n",
            "Hello from 321 out of 1000\n",
            "Hello from 357 out of 1000\n",
            "Hello from 358 out of 1000\n",
            "Hello from 217 out of 1000\n",
            "Hello from 364 out of 1000\n",
            "Hello from 365 out of 1000\n",
            "Hello from 366 out of 1000\n",
            "Hello from 367 out of 1000\n",
            "Hello from 331 out of 1000\n",
            "Hello from 330 out of 1000\n",
            "Hello from 329 out of 1000\n",
            "Hello from 328 out of 1000\n",
            "Hello from 327 out of 1000\n",
            "Hello from 326 out of 1000\n",
            "Hello from 325 out of 1000\n",
            "Hello from 324 out of 1000\n",
            "Hello from 323 out of 1000\n",
            "Hello from 378 out of 1000\n",
            "Hello from 337 out of 1000\n",
            "Hello from 379 out of 1000\n",
            "Hello from 338 out of 1000\n",
            "Hello from 339 out of 1000\n",
            "Hello from 340 out of 1000\n",
            "Hello from 341 out of 1000\n",
            "Hello from 392 out of 1000\n",
            "Hello from 410 out of 1000\n",
            "Hello from 411 out of 1000\n",
            "Hello from 412 out of 1000\n",
            "Hello from 413 out of 1000\n",
            "Hello from 414 out of 1000\n",
            "Hello from 415 out of 1000\n",
            "Hello from 416 out of 1000\n",
            "Hello from 397 out of 1000\n",
            "Hello from 396 out of 1000\n",
            "Hello from 394 out of 1000\n",
            "Hello from 395 out of 1000\n",
            "Hello from 428 out of 1000\n",
            "Hello from 429 out of 1000\n",
            "Hello from 430 out of 1000\n",
            "Hello from 531 out of 1000\n",
            "Hello from 457 out of 1000\n",
            "Hello from 464 out of 1000\n",
            "Hello from 481 out of 1000\n",
            "Hello from 482 out of 1000\n",
            "Hello from 490 out of 1000\n",
            "Hello from 489 out of 1000\n",
            "Hello from 491 out of 1000\n",
            "Hello from 513 out of 1000\n",
            "Hello from 522 out of 1000\n",
            "Hello from 524 out of 1000\n",
            "Hello from 529 out of 1000\n",
            "Hello from 528 out of 1000\n",
            "Hello from 540 out of 1000\n",
            "Hello from 541 out of 1000\n",
            "Hello from 542 out of 1000\n",
            "Hello from 543 out of 1000\n",
            "Hello from 544 out of 1000\n",
            "Hello from 545 out of 1000\n",
            "Hello from 546 out of 1000\n",
            "Hello from 547 out of 1000\n",
            "Hello from 548 out of 1000\n",
            "Hello from 549 out of 1000\n",
            "Hello from 550 out of 1000\n",
            "Hello from 551 out of 1000\n",
            "Hello from 552 out of 1000\n",
            "Hello from 553 out of 1000\n",
            "Hello from 554 out of 1000\n",
            "Hello from 555 out of 1000\n",
            "Hello from 556 out of 1000\n",
            "Hello from 557 out of 1000\n",
            "Hello from 558 out of 1000\n",
            "Hello from 559 out of 1000\n",
            "Hello from 560 out of 1000\n",
            "Hello from 561 out of 1000\n",
            "Hello from 562 out of 1000\n",
            "Hello from 563 out of 1000\n",
            "Hello from 564 out of 1000\n",
            "Hello from 565 out of 1000\n",
            "Hello from 567 out of 1000\n",
            "Hello from 568 out of 1000\n",
            "Hello from 569 out of 1000\n",
            "Hello from 570 out of 1000\n",
            "Hello from 600 out of 1000\n",
            "Hello from 587 out of 1000\n",
            "Hello from 605 out of 1000\n",
            "Hello from 608 out of 1000\n",
            "Hello from 625 out of 1000\n",
            "Hello from 206 out of 1000\n",
            "Hello from 626 out of 1000\n",
            "Hello from 631 out of 1000\n",
            "Hello from 627 out of 1000\n",
            "Hello from 628 out of 1000\n",
            "Hello from 632 out of 1000\n",
            "Hello from 633 out of 1000\n",
            "Hello from 634 out of 1000\n",
            "Hello from 635 out of 1000\n",
            "Hello from 636 out of 1000\n",
            "Hello from 637 out of 1000\n",
            "Hello from 638 out of 1000\n",
            "Hello from 639 out of 1000\n",
            "Hello from 640 out of 1000\n",
            "Hello from 641 out of 1000\n",
            "Hello from 642 out of 1000\n",
            "Hello from 643 out of 1000\n",
            "Hello from 644 out of 1000\n",
            "Hello from 645 out of 1000\n",
            "Hello from 646 out of 1000\n",
            "Hello from 647 out of 1000\n",
            "Hello from 649 out of 1000\n",
            "Hello from 648 out of 1000\n",
            "Hello from 650 out of 1000\n",
            "Hello from 651 out of 1000\n",
            "Hello from 652 out of 1000\n",
            "Hello from 653 out of 1000\n",
            "Hello from 654 out of 1000\n",
            "Hello from 655 out of 1000\n",
            "Hello from 656 out of 1000\n",
            "Hello from 657 out of 1000\n",
            "Hello from 658 out of 1000\n",
            "Hello from 659 out of 1000\n",
            "Hello from 660 out of 1000\n",
            "Hello from 661 out of 1000\n",
            "Hello from 662 out of 1000\n",
            "Hello from 663 out of 1000\n",
            "Hello from 664 out of 1000\n",
            "Hello from 665 out of 1000\n",
            "Hello from 666 out of 1000\n",
            "Hello from 667 out of 1000\n",
            "Hello from 668 out of 1000\n",
            "Hello from 669 out of 1000\n",
            "Hello from 670 out of 1000\n",
            "Hello from 671 out of 1000\n",
            "Hello from 672 out of 1000\n",
            "Hello from 673 out of 1000\n",
            "Hello from 674 out of 1000\n",
            "Hello from 675 out of 1000\n",
            "Hello from 676 out of 1000\n",
            "Hello from 677 out of 1000\n",
            "Hello from 678 out of 1000\n",
            "Hello from 679 out of 1000\n",
            "Hello from 680 out of 1000\n",
            "Hello from 681 out of 1000\n",
            "Hello from 682 out of 1000\n",
            "Hello from 683 out of 1000\n",
            "Hello from 684 out of 1000\n",
            "Hello from 685 out of 1000\n",
            "Hello from 686 out of 1000\n",
            "Hello from 687 out of 1000\n",
            "Hello from 688 out of 1000\n",
            "Hello from 689 out of 1000\n",
            "Hello from 690 out of 1000\n",
            "Hello from 691 out of 1000\n",
            "Hello from 692 out of 1000\n",
            "Hello from 693 out of 1000\n",
            "Hello from 694 out of 1000\n",
            "Hello from 695 out of 1000\n",
            "Hello from 696 out of 1000\n",
            "Hello from 697 out of 1000\n",
            "Hello from 698 out of 1000\n",
            "Hello from 699 out of 1000\n",
            "Hello from 700 out of 1000\n",
            "Hello from 701 out of 1000\n",
            "Hello from 702 out of 1000\n",
            "Hello from 703 out of 1000\n",
            "Hello from 704 out of 1000\n",
            "Hello from 705 out of 1000\n",
            "Hello from 706 out of 1000\n",
            "Hello from 707 out of 1000\n",
            "Hello from 708 out of 1000\n",
            "Hello from 709 out of 1000\n",
            "Hello from 710 out of 1000\n",
            "Hello from 711 out of 1000\n",
            "Hello from 712 out of 1000\n",
            "Hello from 713 out of 1000\n",
            "Hello from 714 out of 1000\n",
            "Hello from 715 out of 1000\n",
            "Hello from 716 out of 1000\n",
            "Hello from 717 out of 1000\n",
            "Hello from 718 out of 1000\n",
            "Hello from 719 out of 1000\n",
            "Hello from 720 out of 1000\n",
            "Hello from 721 out of 1000\n",
            "Hello from 722 out of 1000\n",
            "Hello from 723 out of 1000\n",
            "Hello from 724 out of 1000\n",
            "Hello from 725 out of 1000\n",
            "Hello from 726 out of 1000\n",
            "Hello from 727 out of 1000\n",
            "Hello from 728 out of 1000\n",
            "Hello from 729 out of 1000\n",
            "Hello from 730 out of 1000\n",
            "Hello from 731 out of 1000\n",
            "Hello from 732 out of 1000\n",
            "Hello from 733 out of 1000\n",
            "Hello from 734 out of 1000\n",
            "Hello from 735 out of 1000\n",
            "Hello from 736 out of 1000\n",
            "Hello from 737 out of 1000\n",
            "Hello from 738 out of 1000\n",
            "Hello from 739 out of 1000\n",
            "Hello from 740 out of 1000\n",
            "Hello from 741 out of 1000\n",
            "Hello from 742 out of 1000\n",
            "Hello from 743 out of 1000\n",
            "Hello from 744 out of 1000\n",
            "Hello from 745 out of 1000\n",
            "Hello from 746 out of 1000\n",
            "Hello from 747 out of 1000\n",
            "Hello from 748 out of 1000\n",
            "Hello from 749 out of 1000\n",
            "Hello from 750 out of 1000\n",
            "Hello from 751 out of 1000\n",
            "Hello from 752 out of 1000\n",
            "Hello from 753 out of 1000\n",
            "Hello from 754 out of 1000\n",
            "Hello from 755 out of 1000\n",
            "Hello from 757 out of 1000\n",
            "Hello from 763 out of 1000\n",
            "Hello from 756 out of 1000\n",
            "Hello from 764 out of 1000\n",
            "Hello from 758 out of 1000\n",
            "Hello from 759 out of 1000\n",
            "Hello from 760 out of 1000\n",
            "Hello from 766 out of 1000\n",
            "Hello from 761 out of 1000\n",
            "Hello from 762 out of 1000\n",
            "Hello from 767 out of 1000\n",
            "Hello from 768 out of 1000\n",
            "Hello from 769 out of 1000\n",
            "Hello from 770 out of 1000\n",
            "Hello from 771 out of 1000\n",
            "Hello from 772 out of 1000\n",
            "Hello from 773 out of 1000\n",
            "Hello from 774 out of 1000\n",
            "Hello from 775 out of 1000\n",
            "Hello from 776 out of 1000\n",
            "Hello from 777 out of 1000\n",
            "Hello from 778 out of 1000\n",
            "Hello from 779 out of 1000\n",
            "Hello from 780 out of 1000\n",
            "Hello from 781 out of 1000\n",
            "Hello from 782 out of 1000\n",
            "Hello from 783 out of 1000\n",
            "Hello from 784 out of 1000\n",
            "Hello from 785 out of 1000\n",
            "Hello from 786 out of 1000\n",
            "Hello from 787 out of 1000\n",
            "Hello from 788 out of 1000\n",
            "Hello from 789 out of 1000\n",
            "Hello from 790 out of 1000\n",
            "Hello from 791 out of 1000\n",
            "Hello from 792 out of 1000\n",
            "Hello from 793 out of 1000\n",
            "Hello from 794 out of 1000\n",
            "Hello from 795 out of 1000\n",
            "Hello from 796 out of 1000\n",
            "Hello from 797 out of 1000\n",
            "Hello from 798 out of 1000\n",
            "Hello from 799 out of 1000\n",
            "Hello from 800 out of 1000\n",
            "Hello from 801 out of 1000\n",
            "Hello from 802 out of 1000\n",
            "Hello from 803 out of 1000\n",
            "Hello from 804 out of 1000\n",
            "Hello from 805 out of 1000\n",
            "Hello from 806 out of 1000\n",
            "Hello from 807 out of 1000\n",
            "Hello from 808 out of 1000\n",
            "Hello from 809 out of 1000\n",
            "Hello from 810 out of 1000\n",
            "Hello from 811 out of 1000\n",
            "Hello from 812 out of 1000\n",
            "Hello from 813 out of 1000\n",
            "Hello from 814 out of 1000\n",
            "Hello from 815 out of 1000\n",
            "Hello from 816 out of 1000\n",
            "Hello from 817 out of 1000\n",
            "Hello from 818 out of 1000\n",
            "Hello from 819 out of 1000\n",
            "Hello from 820 out of 1000\n",
            "Hello from 821 out of 1000\n",
            "Hello from 822 out of 1000\n",
            "Hello from 823 out of 1000\n",
            "Hello from 824 out of 1000\n",
            "Hello from 825 out of 1000\n",
            "Hello from 826 out of 1000\n",
            "Hello from 827 out of 1000\n",
            "Hello from 828 out of 1000\n",
            "Hello from 829 out of 1000\n",
            "Hello from 830 out of 1000\n",
            "Hello from 831 out of 1000\n",
            "Hello from 832 out of 1000\n",
            "Hello from 833 out of 1000\n",
            "Hello from 834 out of 1000\n",
            "Hello from 835 out of 1000\n",
            "Hello from 836 out of 1000\n",
            "Hello from 837 out of 1000\n",
            "Hello from 838 out of 1000\n",
            "Hello from 840 out of 1000\n",
            "Hello from 844 out of 1000\n",
            "Hello from 845 out of 1000\n",
            "Hello from 846 out of 1000\n",
            "Hello from 847 out of 1000\n",
            "Hello from 839 out of 1000\n",
            "Hello from 841 out of 1000\n",
            "Hello from 842 out of 1000\n",
            "Hello from 843 out of 1000\n",
            "Hello from 848 out of 1000\n",
            "Hello from 849 out of 1000\n",
            "Hello from 850 out of 1000\n",
            "Hello from 851 out of 1000\n",
            "Hello from 852 out of 1000\n",
            "Hello from 853 out of 1000\n",
            "Hello from 854 out of 1000\n",
            "Hello from 855 out of 1000\n",
            "Hello from 856 out of 1000\n",
            "Hello from 857 out of 1000\n",
            "Hello from 858 out of 1000\n",
            "Hello from 859 out of 1000\n",
            "Hello from 860 out of 1000\n",
            "Hello from 861 out of 1000\n",
            "Hello from 862 out of 1000\n",
            "Hello from 863 out of 1000\n",
            "Hello from 864 out of 1000\n",
            "Hello from 865 out of 1000\n",
            "Hello from 866 out of 1000\n",
            "Hello from 868 out of 1000\n",
            "Hello from 867 out of 1000\n",
            "Hello from 869 out of 1000\n",
            "Hello from 870 out of 1000\n",
            "Hello from 871 out of 1000\n",
            "Hello from 872 out of 1000\n",
            "Hello from 873 out of 1000\n",
            "Hello from 874 out of 1000\n",
            "Hello from 875 out of 1000\n",
            "Hello from 876 out of 1000\n",
            "Hello from 877 out of 1000\n",
            "Hello from 878 out of 1000\n",
            "Hello from 879 out of 1000\n",
            "Hello from 880 out of 1000\n",
            "Hello from 881 out of 1000\n",
            "Hello from 882 out of 1000\n",
            "Hello from 883 out of 1000\n",
            "Hello from 884 out of 1000\n",
            "Hello from 885 out of 1000\n",
            "Hello from 886 out of 1000\n",
            "Hello from 887 out of 1000\n",
            "Hello from 888 out of 1000\n",
            "Hello from 889 out of 1000\n",
            "Hello from 890 out of 1000\n",
            "Hello from 891 out of 1000\n",
            "Hello from 892 out of 1000\n",
            "Hello from 893 out of 1000\n",
            "Hello from 894 out of 1000\n",
            "Hello from 895 out of 1000\n",
            "Hello from 896 out of 1000\n",
            "Hello from 897 out of 1000\n",
            "Hello from 898 out of 1000\n",
            "Hello from 899 out of 1000\n",
            "Hello from 900 out of 1000\n",
            "Hello from 901 out of 1000\n",
            "Hello from 902 out of 1000\n",
            "Hello from 903 out of 1000\n",
            "Hello from 904 out of 1000\n",
            "Hello from 905 out of 1000\n",
            "Hello from 906 out of 1000\n",
            "Hello from 907 out of 1000\n",
            "Hello from 908 out of 1000\n",
            "Hello from 909 out of 1000\n",
            "Hello from 910 out of 1000\n",
            "Hello from 911 out of 1000\n",
            "Hello from 912 out of 1000\n",
            "Hello from 913 out of 1000\n",
            "Hello from 914 out of 1000\n",
            "Hello from 915 out of 1000\n",
            "Hello from 916 out of 1000\n",
            "Hello from 917 out of 1000\n",
            "Hello from 918 out of 1000\n",
            "Hello from 919 out of 1000\n",
            "Hello from 920 out of 1000\n",
            "Hello from 921 out of 1000\n",
            "Hello from 922 out of 1000\n",
            "Hello from 923 out of 1000\n",
            "Hello from 924 out of 1000\n",
            "Hello from 925 out of 1000\n",
            "Hello from 926 out of 1000\n",
            "Hello from 927 out of 1000\n",
            "Hello from 928 out of 1000\n",
            "Hello from 929 out of 1000\n",
            "Hello from 930 out of 1000\n",
            "Hello from 931 out of 1000\n",
            "Hello from 932 out of 1000\n",
            "Hello from 933 out of 1000\n",
            "Hello from 934 out of 1000\n",
            "Hello from 935 out of 1000\n",
            "Hello from 936 out of 1000\n",
            "Hello from 937 out of 1000\n",
            "Hello from 938 out of 1000\n",
            "Hello from 939 out of 1000\n",
            "Hello from 940 out of 1000\n",
            "Hello from 941 out of 1000\n",
            "Hello from 942 out of 1000\n",
            "Hello from 943 out of 1000\n",
            "Hello from 944 out of 1000\n",
            "Hello from 945 out of 1000\n",
            "Hello from 946 out of 1000\n",
            "Hello from 947 out of 1000\n",
            "Hello from 948 out of 1000\n",
            "Hello from 949 out of 1000\n",
            "Hello from 950 out of 1000\n",
            "Hello from 951 out of 1000\n",
            "Hello from 952 out of 1000\n",
            "Hello from 953 out of 1000\n",
            "Hello from 954 out of 1000\n",
            "Hello from 955 out of 1000\n",
            "Hello from 956 out of 1000\n",
            "Hello from 957 out of 1000\n",
            "Hello from 958 out of 1000\n",
            "Hello from 959 out of 1000\n",
            "Hello from 960 out of 1000\n",
            "Hello from 961 out of 1000\n",
            "Hello from 962 out of 1000\n",
            "Hello from 963 out of 1000\n",
            "Hello from 964 out of 1000\n",
            "Hello from 965 out of 1000\n",
            "Hello from 966 out of 1000\n",
            "Hello from 967 out of 1000\n",
            "Hello from 968 out of 1000\n",
            "Hello from 969 out of 1000\n",
            "Hello from 970 out of 1000\n",
            "Hello from 971 out of 1000\n",
            "Hello from 972 out of 1000\n",
            "Hello from 973 out of 1000\n",
            "Hello from 974 out of 1000\n",
            "Hello from 975 out of 1000\n",
            "Hello from 976 out of 1000\n",
            "Hello from 977 out of 1000\n",
            "Hello from 978 out of 1000\n",
            "Hello from 979 out of 1000\n",
            "Hello from 980 out of 1000\n",
            "Hello from 981 out of 1000\n",
            "Hello from 982 out of 1000\n",
            "Hello from 983 out of 1000\n",
            "Hello from 984 out of 1000\n",
            "Hello from 985 out of 1000\n",
            "Hello from 986 out of 1000\n",
            "Hello from 987 out of 1000\n",
            "Hello from 988 out of 1000\n",
            "Hello from 989 out of 1000\n",
            "Hello from 990 out of 1000\n",
            "Hello from 991 out of 1000\n",
            "Hello from 992 out of 1000\n",
            "Hello from 993 out of 1000\n",
            "Hello from 994 out of 1000\n",
            "Hello from 995 out of 1000\n",
            "Hello from 996 out of 1000\n",
            "Hello from 997 out of 1000\n",
            "Hello from 998 out of 1000\n",
            "Hello from 5 out of 1000\n"
          ]
        }
      ]
    },
    {
      "cell_type": "markdown",
      "source": [
        "**3) omp_set_num_threads() API call**"
      ],
      "metadata": {
        "id": "bk7B3f63F-_J"
      }
    },
    {
      "cell_type": "code",
      "source": [
        "%%writefile omp_set_num_threads.c\n",
        "\n",
        "#include <stdio.h>\n",
        "#include <omp.h>\n",
        "\n",
        "int main() {\n",
        "  omp_set_num_threads(4);\n",
        "  #pragma omp parallel\n",
        "    {\n",
        "      printf(\"Hello from %d out of %d\\n\", omp_get_thread_num(), omp_get_num_threads());\n",
        "    }\n",
        "\n",
        "  return 0;\n",
        "}"
      ],
      "metadata": {
        "colab": {
          "base_uri": "https://localhost:8080/"
        },
        "id": "sDio2TriGDa_",
        "outputId": "3c1b4cdc-fd63-47fd-b8e2-2793be54c7a3"
      },
      "execution_count": null,
      "outputs": [
        {
          "output_type": "stream",
          "name": "stdout",
          "text": [
            "Writing omp_set_num_threads.c\n"
          ]
        }
      ]
    },
    {
      "cell_type": "code",
      "source": [
        "!gcc -fopenmp omp_set_num_threads.c -o omp_set_num_threads.exe"
      ],
      "metadata": {
        "id": "oHJfEGAQGFfF"
      },
      "execution_count": null,
      "outputs": []
    },
    {
      "cell_type": "code",
      "source": [
        "!./omp_set_num_threads.exe"
      ],
      "metadata": {
        "colab": {
          "base_uri": "https://localhost:8080/"
        },
        "id": "19sDMXa-GF3-",
        "outputId": "36b524f0-e385-4806-9163-df918ead515e"
      },
      "execution_count": null,
      "outputs": [
        {
          "output_type": "stream",
          "name": "stdout",
          "text": [
            "Hello from 3 out of 4\n",
            "Hello from 0 out of 4\n",
            "Hello from 2 out of 4\n",
            "Hello from 1 out of 4\n"
          ]
        }
      ]
    },
    {
      "cell_type": "code",
      "source": [
        "!OMP_NUM_THREADS=1000 ./omp_set_num_threads.exe"
      ],
      "metadata": {
        "colab": {
          "base_uri": "https://localhost:8080/"
        },
        "id": "78X0Yh4VHmvp",
        "outputId": "6bd9d8fa-9bc9-482a-fdb7-0c27c7067e24"
      },
      "execution_count": null,
      "outputs": [
        {
          "output_type": "stream",
          "name": "stdout",
          "text": [
            "Hello from 3 out of 4\n",
            "Hello from 2 out of 4\n",
            "Hello from 0 out of 4\n",
            "Hello from 1 out of 4\n"
          ]
        }
      ]
    },
    {
      "cell_type": "markdown",
      "source": [
        "Es posible modificar la cantidad de hilos a usar directamente desde el código por medio de la variable omp_set_num_threads (Se escribe en minúscula a comparación de la versión variable de entorno, que se escribe en mayúscula). Esta variable tiene precedencia sobre la variable de entorno, esto significa que así durante la ejecución le asigne un valor a OMP_NUM_THREADS, la cantidad de hilos acrear será el valor de omp_set_num_threads. Como se puede observar en el ejercicio, el programa corrió con 4 hilos a pesar de que se asignó OMP_NUM_THREADS=1000"
      ],
      "metadata": {
        "id": "YYBWML40Hrb-"
      }
    },
    {
      "cell_type": "markdown",
      "source": [
        "**4) num_threads()**"
      ],
      "metadata": {
        "id": "ywBXfYZRIyjn"
      }
    },
    {
      "cell_type": "code",
      "source": [
        "%%writefile num_threads.c\n",
        "\n",
        "#include <stdio.h>\n",
        "#include <omp.h>\n",
        "\n",
        "int main() {\n",
        "  #pragma omp parallel num_threads(4)\n",
        "    {\n",
        "      printf(\"Hello from %d out of %d\\n\", omp_get_thread_num(), omp_get_num_threads());\n",
        "    }\n",
        "\n",
        "  return 0;\n",
        "}"
      ],
      "metadata": {
        "colab": {
          "base_uri": "https://localhost:8080/"
        },
        "id": "gbD4AnpYI2yP",
        "outputId": "8fd081d0-30dd-418f-85dd-f100f01591ff"
      },
      "execution_count": null,
      "outputs": [
        {
          "output_type": "stream",
          "name": "stdout",
          "text": [
            "Writing num_threads.c\n"
          ]
        }
      ]
    },
    {
      "cell_type": "code",
      "source": [
        "!gcc -fopenmp num_threads.c -o num_threads.exe"
      ],
      "metadata": {
        "id": "v-97D6XBI3Dw"
      },
      "execution_count": null,
      "outputs": []
    },
    {
      "cell_type": "code",
      "source": [
        "!./num_threads.exe"
      ],
      "metadata": {
        "colab": {
          "base_uri": "https://localhost:8080/"
        },
        "id": "Mom9Wh8rI3U9",
        "outputId": "beeded86-1fcd-42e0-8090-47ad832b58c8"
      },
      "execution_count": null,
      "outputs": [
        {
          "output_type": "stream",
          "name": "stdout",
          "text": [
            "Hello from 0 out of 4\n",
            "Hello from 3 out of 4\n",
            "Hello from 1 out of 4\n",
            "Hello from 2 out of 4\n"
          ]
        }
      ]
    },
    {
      "cell_type": "code",
      "source": [
        "!OMP_NUM_THREADS=1000 ./num_threads.exe"
      ],
      "metadata": {
        "colab": {
          "base_uri": "https://localhost:8080/"
        },
        "id": "3J9owH-xJLZS",
        "outputId": "76f1679c-099e-4dbc-9d14-3edd9d96b7ed"
      },
      "execution_count": null,
      "outputs": [
        {
          "output_type": "stream",
          "name": "stdout",
          "text": [
            "Hello from 0 out of 4\n",
            "Hello from 2 out of 4\n",
            "Hello from 3 out of 4\n",
            "Hello from 1 out of 4\n"
          ]
        }
      ]
    },
    {
      "cell_type": "markdown",
      "source": [
        "Otra manera de definir el número de hilos es directamente en el contructor de openMP, al añadir el argumento num_threads(n) a la instrucción #pragma omp parallel, donde n es el número de hilos. Al igual que usando la variable omp_set_num_threads, definirlo en el constructor tiene precedencia sobre la variable de entorno OMP_NUM_THREADS. Es por esto que el programa solo creó 4 hilos a pesar de que se asignó OMP_NUM_THREADS=1000.\n",
        "\n",
        "El argumento num_threads(n) también tiene precedencia sobre omp_set_num_threads, como se puede apreciar a continuación, el programa creó 3 hilos en vez de 5."
      ],
      "metadata": {
        "id": "CJeqX2J7J7wI"
      }
    },
    {
      "cell_type": "code",
      "source": [
        "%%writefile num_threads.c\n",
        "\n",
        "#include <stdio.h>\n",
        "#include <omp.h>\n",
        "\n",
        "int main() {\n",
        "  omp_set_num_threads(5);\n",
        "  #pragma omp parallel num_threads(3)\n",
        "    {\n",
        "      printf(\"Hello from %d out of %d\\n\", omp_get_thread_num(), omp_get_num_threads());\n",
        "    }\n",
        "\n",
        "  return 0;\n",
        "}"
      ],
      "metadata": {
        "colab": {
          "base_uri": "https://localhost:8080/"
        },
        "id": "G66AuNCyK7PE",
        "outputId": "5c133247-34c9-4ed7-cbf4-db5d2cfa92fc"
      },
      "execution_count": null,
      "outputs": [
        {
          "output_type": "stream",
          "name": "stdout",
          "text": [
            "Overwriting num_threads.c\n"
          ]
        }
      ]
    },
    {
      "cell_type": "code",
      "source": [
        "!gcc -fopenmp num_threads.c -o num_threads.exe"
      ],
      "metadata": {
        "id": "nOzv-2bsK7qJ"
      },
      "execution_count": null,
      "outputs": []
    },
    {
      "cell_type": "code",
      "source": [
        "!./num_threads.exe"
      ],
      "metadata": {
        "colab": {
          "base_uri": "https://localhost:8080/"
        },
        "id": "clbSVFTDK8JB",
        "outputId": "3aea4b7c-d8b6-4ba8-b296-df62d89a03f0"
      },
      "execution_count": null,
      "outputs": [
        {
          "output_type": "stream",
          "name": "stdout",
          "text": [
            "Hello from 0 out of 3\n",
            "Hello from 1 out of 3\n",
            "Hello from 2 out of 3\n"
          ]
        }
      ]
    },
    {
      "cell_type": "markdown",
      "source": [
        "**5) Mixed number of threads**"
      ],
      "metadata": {
        "id": "7wHfKoD2J8P5"
      }
    },
    {
      "cell_type": "code",
      "source": [
        "%%writefile num_threads_mixed.c\n",
        "\n",
        "#include <stdio.h>\n",
        "#include <omp.h>\n",
        "\n",
        "int main() {\n",
        "  #pragma omp parallel\n",
        "    {\n",
        "      printf(\"Using default or OMP_NUM_THREADS from %d out of %d\\n\", omp_get_thread_num(), omp_get_num_threads());\n",
        "    }\n",
        "\n",
        "  omp_set_num_threads(2);\n",
        "  #pragma omp parallel\n",
        "  {\n",
        "    printf(\"Using omp_set_num_threads(2) from %d out of %d\\n\", omp_get_thread_num(), omp_get_num_threads());\n",
        "  }\n",
        "\n",
        "  #pragma omp parallel num_threads(4)\n",
        "  {\n",
        "    printf(\"using num_threads(4) clause from %d out of %d\\n\", omp_get_thread_num(), omp_get_num_threads());\n",
        "  }\n",
        "  return 0;\n",
        "}"
      ],
      "metadata": {
        "colab": {
          "base_uri": "https://localhost:8080/"
        },
        "id": "NQte96AHLsRH",
        "outputId": "22195df8-c3ae-450d-cc90-936d9bcbd059"
      },
      "execution_count": null,
      "outputs": [
        {
          "output_type": "stream",
          "name": "stdout",
          "text": [
            "Writing num_threads_mixed.c\n"
          ]
        }
      ]
    },
    {
      "cell_type": "code",
      "source": [
        "!gcc -fopenmp num_threads_mixed.c -o num_threads_mixed.exe"
      ],
      "metadata": {
        "id": "03uC0VQ7LsnT"
      },
      "execution_count": null,
      "outputs": []
    },
    {
      "cell_type": "code",
      "source": [
        "!OMP_NUM_THREADS=1 ./num_threads_mixed.exe"
      ],
      "metadata": {
        "colab": {
          "base_uri": "https://localhost:8080/"
        },
        "id": "LiHStZaTLtB-",
        "outputId": "a8e8d741-c5ad-443c-8931-d843c8e35968"
      },
      "execution_count": null,
      "outputs": [
        {
          "output_type": "stream",
          "name": "stdout",
          "text": [
            "Using default or OMP_NUM_THREADS from 0 out of 1\n",
            "Using omp_set_num_threads(2) from 0 out of 2\n",
            "Using omp_set_num_threads(2) from 1 out of 2\n",
            "using num_threads(4) clause from 1 out of 4\n",
            "using num_threads(4) clause from 0 out of 4\n",
            "using num_threads(4) clause from 3 out of 4\n",
            "using num_threads(4) clause from 2 out of 4\n"
          ]
        }
      ]
    },
    {
      "cell_type": "markdown",
      "source": [
        "Un programa no tiene que utilizar la misma cantidad de hilos durante toda su ejecución, esto es debido a las Internal Control Variables. Estas son variables internas que OpenMP utiliza para  gestionar varios aspectos de la ejecución en paralelo, tales como: cómo ejecutar bloques de código paralelo, cuántos hilos usar, cómo distribuir el trabajo entre ellos, etc."
      ],
      "metadata": {
        "id": "ix0eroYRMeAp"
      }
    },
    {
      "cell_type": "markdown",
      "source": [
        "**6) The if() clause**"
      ],
      "metadata": {
        "id": "lDXXqg05Netj"
      }
    },
    {
      "cell_type": "code",
      "source": [
        "%%writefile parallel_if.c\n",
        "\n",
        "#include <stdio.h>\n",
        "#include <omp.h>\n",
        "\n",
        "int main() {\n",
        "\n",
        "  #pragma omp parallel if(0) num_threads(1000)\n",
        "    {\n",
        "      printf(\"Hi from %d out of %d\\n\", omp_get_thread_num(), omp_get_num_threads());\n",
        "    }\n",
        "\n",
        "    return 0;\n",
        "}"
      ],
      "metadata": {
        "colab": {
          "base_uri": "https://localhost:8080/"
        },
        "id": "C-rQcY-hNfD8",
        "outputId": "be09349d-8941-406b-aa98-b2dacec3a735"
      },
      "execution_count": null,
      "outputs": [
        {
          "output_type": "stream",
          "name": "stdout",
          "text": [
            "Writing parallel_if.c\n"
          ]
        }
      ]
    },
    {
      "cell_type": "code",
      "source": [
        "!gcc -fopenmp parallel_if.c -o parallel_if.exe"
      ],
      "metadata": {
        "id": "wWPL7_jBNfUB"
      },
      "execution_count": null,
      "outputs": []
    },
    {
      "cell_type": "code",
      "source": [
        "!./parallel_if.exe"
      ],
      "metadata": {
        "colab": {
          "base_uri": "https://localhost:8080/"
        },
        "id": "xECvhGHhNfqr",
        "outputId": "1d53b0a6-e1eb-41a3-e9c8-f45c50fc828b"
      },
      "execution_count": null,
      "outputs": [
        {
          "output_type": "stream",
          "name": "stdout",
          "text": [
            "Hi from 0 out of 1\n"
          ]
        }
      ]
    },
    {
      "cell_type": "markdown",
      "source": [
        "Otra de las características de OpenMP son los condicionales if(predicado); si el predicado es verdadero (o un número diferente de 0) el programa se ejecutará en paralelo, pero si es falso (o 0) se ejecutará de manera secuencial. Es por esto que nuestro programa solo usa un hilo, la expresión if(0) retorna falso así que la función se realiza de manera secuencial, representado por un solo hilo."
      ],
      "metadata": {
        "id": "BgSf56oKOJ3Y"
      }
    },
    {
      "cell_type": "markdown",
      "source": [
        "**7) Programs relying on number of threads**"
      ],
      "metadata": {
        "id": "8z72s8IEOJn-"
      }
    },
    {
      "cell_type": "code",
      "source": [
        "%%writefile lock_program.c\n",
        "\n",
        "#include <stdio.h>\n",
        "#include <omp.h>\n",
        "\n",
        "int main() {\n",
        "\n",
        "  int a_var = 0;\n",
        "  #pragma omp parallel shared(a_var)\n",
        "  {\n",
        "    if (omp_get_thread_num() == 0) {\n",
        "      while(a_var == 0);\n",
        "    } else {\n",
        "          #pragma omp atomic\n",
        "          a_var++;\n",
        "    }\n",
        "  }\n",
        "\n",
        "    return 0;\n",
        "}"
      ],
      "metadata": {
        "colab": {
          "base_uri": "https://localhost:8080/"
        },
        "id": "0Uy4MLt8P8tU",
        "outputId": "07ac0fa2-084b-48a5-e28e-5eafb278666b"
      },
      "execution_count": null,
      "outputs": [
        {
          "output_type": "stream",
          "name": "stdout",
          "text": [
            "Writing lock_program.c\n"
          ]
        }
      ]
    },
    {
      "cell_type": "code",
      "source": [
        "!gcc -fopenmp lock_program.c -o lock_program.exe"
      ],
      "metadata": {
        "id": "986cQW0XP89G"
      },
      "execution_count": null,
      "outputs": []
    },
    {
      "cell_type": "code",
      "source": [
        "!OMP_NUM_THREADS=4 ./lock_program.exe"
      ],
      "metadata": {
        "id": "9BxKHdZUP9Kh"
      },
      "execution_count": null,
      "outputs": []
    },
    {
      "cell_type": "code",
      "source": [
        "!OMP_NUM_THREADS=1 timeout 10 ./lock_program.exe || if [ $? -eq 124 ]; then echo \"Program took too long\"; fi"
      ],
      "metadata": {
        "colab": {
          "base_uri": "https://localhost:8080/"
        },
        "id": "KTQxk6j_P9ZG",
        "outputId": "c16bb62b-9df1-463a-de63-88ca9b788067"
      },
      "execution_count": null,
      "outputs": [
        {
          "output_type": "stream",
          "name": "stdout",
          "text": [
            "Program took too long\n"
          ]
        }
      ]
    },
    {
      "cell_type": "markdown",
      "source": [
        "En este programa hay un hilo que se encontrará en espera hasta que otro hilo modifique el valor de la variable compartida. Es por esto que se bloquea cuando solo hay un hilo, pues el valor de la variable nunca va a cambiar y el ciclo en el que se encuentra nunca va a terminar"
      ],
      "metadata": {
        "id": "PYod2w6ZQieR"
      }
    },
    {
      "cell_type": "code",
      "source": [
        "%%writefile lock_safe_program.c\n",
        "\n",
        "#include <stdio.h>\n",
        "#include <omp.h>\n",
        "\n",
        "int main() {\n",
        "\n",
        "  int a_var = 0;\n",
        "\n",
        "    // Revisar si el número de hilos es adecuado\n",
        "    int num_threads_to_create = omp_get_max_threads();\n",
        "    if (num_threads_to_create <2) {\n",
        "        printf(\"Early termination. insufficient number of threads\\n\");\n",
        "        return -1;\n",
        "    }\n",
        "\n",
        "    printf(\"I'm starting\\n\");\n",
        "    #pragma omp parallel shared(a_var)\n",
        "    {\n",
        "        if (omp_get_thread_num()==0) {\n",
        "            printf(\"running with %d threads\\n\", omp_get_num_threads());\n",
        "            printf(\"I'm waiting for any other thread\\n\");\n",
        "            while(a_var == 0);\n",
        "        } else {\n",
        "            #pragma omp atomic\n",
        "            a_var++;\n",
        "        }\n",
        "    }\n",
        "    printf(\"I've finished\\n\");\n",
        "\n",
        "    return 0;\n",
        "}"
      ],
      "metadata": {
        "colab": {
          "base_uri": "https://localhost:8080/"
        },
        "id": "yHNfLm41P9oP",
        "outputId": "d05fad18-2303-4d4b-fb4b-f0fa0f8f6235"
      },
      "execution_count": null,
      "outputs": [
        {
          "output_type": "stream",
          "name": "stdout",
          "text": [
            "Writing lock_safe_program.c\n"
          ]
        }
      ]
    },
    {
      "cell_type": "code",
      "source": [
        "!gcc -fopenmp lock_safe_program.c -o lock_safe_program.exe"
      ],
      "metadata": {
        "id": "UCUd1p-DQllA"
      },
      "execution_count": null,
      "outputs": []
    },
    {
      "cell_type": "code",
      "source": [
        "!OMP_NUM_THREADS=4 ./lock_safe_program.exe"
      ],
      "metadata": {
        "colab": {
          "base_uri": "https://localhost:8080/"
        },
        "id": "caRY-lY7Ql6z",
        "outputId": "1cb74720-f959-4717-bef3-cd9403c7695f"
      },
      "execution_count": null,
      "outputs": [
        {
          "output_type": "stream",
          "name": "stdout",
          "text": [
            "I'm starting\n",
            "running with 4 threads\n",
            "I'm waiting for any other thread\n",
            "I've finished\n"
          ]
        }
      ]
    },
    {
      "cell_type": "code",
      "source": [
        "!OMP_NUM_THREADS=1 ./lock_safe_program.exe"
      ],
      "metadata": {
        "colab": {
          "base_uri": "https://localhost:8080/"
        },
        "id": "O2_4AkyrQmTi",
        "outputId": "4229ca87-459a-4895-83a3-0499cc60d52a"
      },
      "execution_count": null,
      "outputs": [
        {
          "output_type": "stream",
          "name": "stdout",
          "text": [
            "Early termination. insufficient number of threads\n"
          ]
        }
      ]
    },
    {
      "cell_type": "markdown",
      "source": [
        "Para evitar que esto pase se verifica primero que hayan al menos dos hilos para que el programa se pueda realizar en paralelo y el valor de la variable compartida pueda ser modificado a pesar de que un hilo\n",
        "se encuentra en un ciclo infinito. Para que un programa se ejecute en paralelo se necesitan por lo menos dos hilos."
      ],
      "metadata": {
        "id": "ae_caerDSSfP"
      }
    }
  ]
}